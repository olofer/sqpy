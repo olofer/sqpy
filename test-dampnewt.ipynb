{
 "cells": [
  {
   "cell_type": "markdown",
   "id": "35607dd8",
   "metadata": {},
   "source": [
    "### Tests of nonlinear optimization programs for finding min/max eigenvectors\n",
    "This is a test/demo of the SQP solver in the `dampnewt.py` source file. \n",
    "\n",
    "Extremize quadratic form $\\sum_{i,j}m_{ij}x_ix_j$ subject to nonlinear equality constraint $\\sum_i x_i^2 = 1$. "
   ]
  },
  {
   "cell_type": "code",
   "execution_count": 1,
   "id": "f13adc45",
   "metadata": {},
   "outputs": [],
   "source": [
    "import numpy as np\n",
    "import dampnewt"
   ]
  },
  {
   "cell_type": "code",
   "execution_count": 2,
   "id": "a1440a51",
   "metadata": {},
   "outputs": [
    {
     "name": "stdout",
     "output_type": "stream",
     "text": [
      "[148.11242547 139.73872283 129.32401104 117.65003217 114.44155381\n",
      " 108.60225098  96.94323428  88.89140676  84.17579387  81.50592152\n",
      "  75.87391201  69.1593663    4.74122898  59.8500043   57.23087372\n",
      "  55.62609855  52.40321222   8.0354218   11.17022533  11.68016078\n",
      "  13.02162734  17.50976364  21.39399722  21.76485958  44.031409\n",
      "  28.21209644  31.8147921   36.06859295  38.47573657  37.22767341]\n",
      "max(EV) = 148.1124254703355\n",
      "min(EV) = 4.741228980815417\n"
     ]
    }
   ],
   "source": [
    "nx = 30\n",
    "X = np.random.randn(2 * nx, nx)\n",
    "M = X.T.dot(X)\n",
    "E = np.linalg.eigvals(M)\n",
    "print(E)\n",
    "\n",
    "print('max(EV) = {}'.format(np.max(E)))\n",
    "print('min(EV) = {}'.format(np.min(E)))\n",
    "\n",
    "def objfunc_neg(x):\n",
    "    v = -1.0 * np.sum(x * M.dot(x))\n",
    "    g = -2.0 * M.dot(x)\n",
    "    H = -2.0 * M\n",
    "    return v, g, H\n",
    "\n",
    "def objfunc_pos(x):\n",
    "    v = 1.0 * np.sum(x * M.dot(x))\n",
    "    g = 2.0 * M.dot(x)\n",
    "    H = 2.0 * M\n",
    "    return v, g, H\n",
    "\n",
    "IM = np.linalg.solve(M, np.eye(nx))\n",
    "\n",
    "def objfunc_inv(x):\n",
    "    v = 1.0 * np.sum(x * IM.dot(x))\n",
    "    g = 2.0 * IM.dot(x)\n",
    "    H = 2.0 * IM\n",
    "    return v, g, H\n",
    "\n",
    "# single nonlinear equality constraint: sum(x * x) = 1\n",
    "def eqfunc(x):\n",
    "    return np.array([np.sum(x * x) - 1.0]), (2.0 * x).reshape((1, x.size))"
   ]
  },
  {
   "cell_type": "code",
   "execution_count": 3,
   "id": "36301dd1",
   "metadata": {},
   "outputs": [
    {
     "name": "stdout",
     "output_type": "stream",
     "text": [
      "True\n",
      "True\n",
      "True\n"
     ]
    }
   ],
   "source": [
    "rep_pos = dampnewt.solveEq(objfunc_pos, eqfunc, x0 = np.random.randn(nx), verbosity = 0, kmax = 500, epstop = 1.0e-8) \n",
    "print(rep_pos['converged'])\n",
    "\n",
    "rep_neg = dampnewt.solveEq(objfunc_neg, eqfunc, x0 = np.random.randn(nx), verbosity = 0, kmax = 500, epstop = 1.0e-8) \n",
    "print(rep_neg['converged'])\n",
    "\n",
    "rep_inv = dampnewt.solveEq(objfunc_inv, eqfunc, x0 = np.random.randn(nx), verbosity = 0, kmax = 500, epstop = 1.0e-8) \n",
    "print(rep_inv['converged'])"
   ]
  },
  {
   "cell_type": "code",
   "execution_count": 4,
   "id": "9188e448",
   "metadata": {},
   "outputs": [
    {
     "name": "stdout",
     "output_type": "stream",
     "text": [
      "1.0000000000000009\n",
      "[4.7412291  4.74122869 4.74122905 4.74122707 4.74122784 4.74122785\n",
      " 4.74123017 4.7412134  4.74122735 4.74122911 4.74122768 4.74164151\n",
      " 4.74123044 4.741229   4.74122937 4.74122909 4.74122835 4.741232\n",
      " 4.74122887 4.74122874 4.74122576 4.74122999 4.74122823 4.74122918\n",
      " 4.74122894 4.74122958 4.74122803 4.74122017 4.74122982 4.74124005]\n",
      "1.0000000000000013\n",
      "[4.74122888 4.74122921 4.74122893 4.74123044 4.74122987 4.74122988\n",
      " 4.74122808 4.74124083 4.74123026 4.74122888 4.74122998 4.74091587\n",
      " 4.74122783 4.74122896 4.74122869 4.7412289  4.74122947 4.74122654\n",
      " 4.74122907 4.74122916 4.7412316  4.7412282  4.74122954 4.74122884\n",
      " 4.74122902 4.74122852 4.74122972 4.74123593 4.74122831 4.74122031]\n",
      "1.0000000000000004\n",
      "[148.11242229 148.1124267  148.11244474 148.1124163  148.11228111\n",
      " 148.11362821 148.11244709 148.11244895 148.11240763 148.1124285\n",
      " 148.11243741 148.11260076 148.11243905 148.11240484 148.11242275\n",
      " 148.11240221 148.11241729 148.11241036 148.11240219 148.11242469\n",
      " 148.11243281 148.11242547 148.11241371 148.11237917 148.11243531\n",
      " 148.1124322  148.11241675 148.11242723 148.11240517 148.11243069]\n"
     ]
    }
   ],
   "source": [
    "xpos = rep_pos['x']\n",
    "print(np.sum(xpos * xpos))\n",
    "print(M.dot(xpos) / xpos)\n",
    "\n",
    "xneg = rep_neg['x']\n",
    "print(np.sum(xneg * xneg))\n",
    "print(M.dot(xneg) / xneg)\n",
    "\n",
    "xinv = rep_inv['x']\n",
    "print(np.sum(xinv * xinv))\n",
    "print(M.dot(xinv) / xinv)"
   ]
  }
 ],
 "metadata": {
  "kernelspec": {
   "display_name": "Python 3 (ipykernel)",
   "language": "python",
   "name": "python3"
  },
  "language_info": {
   "codemirror_mode": {
    "name": "ipython",
    "version": 3
   },
   "file_extension": ".py",
   "mimetype": "text/x-python",
   "name": "python",
   "nbconvert_exporter": "python",
   "pygments_lexer": "ipython3",
   "version": "3.8.10"
  }
 },
 "nbformat": 4,
 "nbformat_minor": 5
}
